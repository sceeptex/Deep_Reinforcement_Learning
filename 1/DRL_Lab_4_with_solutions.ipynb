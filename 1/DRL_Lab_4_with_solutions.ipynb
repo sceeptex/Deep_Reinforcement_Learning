{
 "cells": [
  {
   "cell_type": "markdown",
   "metadata": {
    "colab_type": "text",
    "id": "H60DVrDg1_Gq"
   },
   "source": [
    "## Deep Reinforcement Learning\n",
    "## Lecture / Lab #3\n",
    "\n",
    "This tutorial was adapted from DRL tutorial @ EEML ( Eastern European Machine Learning Summer School 2019, https://www.eeml.eu/home ), with permission.\n",
    "\n",
    "Credits to Diana Borsa, Hado van Hasselt, and Matteo Hessel."
   ]
  },
  {
   "cell_type": "markdown",
   "metadata": {
    "colab_type": "text",
    "id": "9v_SYckYfv5G"
   },
   "source": [
    "## Content\n",
    "\n",
    "In this tutorial, we will investigate the properties of 3 distinct reinforcement learning algorithms:\n",
    "\n",
    "* Policy Evaluation\n",
    "* Online Control: SARSA, Q-learning\n",
    "* Experience Replay\n",
    "\n",
    "Some dimensions of the RL problems we will be considering:\n",
    "* Tabular reinforcement learning\n",
    "* Off-policy/On-policy Control\n",
    "* Online vs Replay\n",
    "* Exploration vs Explotation\n"
   ]
  },
  {
   "cell_type": "markdown",
   "metadata": {
    "colab_type": "text",
    "id": "rNuohp44N00i"
   },
   "source": [
    "## Preliminary notes\n",
    "\n",
    "You will use Python to implement several reinforcement learning algorithms.\n",
    "In this tutorial, we are going to work in a *tabular* context, whereby value and action-value functions are represented using arrays or matrices, with a component for each state in the environment / MDP.\n",
    "\n",
    "You will then run these algorithms on a few problems, to understand their properties and different emerging behaviour. In this tutorial we will focus primary on fundamental algorithms in RL and explore them in a simple gridworld setting.\n",
    "\n",
    "<b>Note that the solution is provided in the cell below each exercise. As such, we strongly advise you to first attempt the exercise yourself without looking ahead.</b>\n"
   ]
  },
  {
   "cell_type": "markdown",
   "metadata": {
    "colab_type": "text",
    "id": "ztQEQvnKh2t6"
   },
   "source": [
    "# Setup"
   ]
  },
  {
   "cell_type": "code",
   "execution_count": 6,
   "metadata": {
    "colab": {},
    "colab_type": "code",
    "id": "Ps5OnkPmDbMX"
   },
   "outputs": [
    {
     "name": "stderr",
     "output_type": "stream",
     "text": [
      "C:\\Users\\tobi1\\AppData\\Local\\Temp\\ipykernel_33224\\3660056193.py:7: MatplotlibDeprecationWarning: The seaborn styles shipped by Matplotlib are deprecated since 3.6, as they no longer correspond to the styles shipped by seaborn. However, they will remain available as 'seaborn-v0_8-<style>'. Alternatively, directly use the seaborn API instead.\n",
      "  plt.style.use('seaborn-notebook')\n",
      "C:\\Users\\tobi1\\AppData\\Local\\Temp\\ipykernel_33224\\3660056193.py:8: MatplotlibDeprecationWarning: The seaborn styles shipped by Matplotlib are deprecated since 3.6, as they no longer correspond to the styles shipped by seaborn. However, they will remain available as 'seaborn-v0_8-<style>'. Alternatively, directly use the seaborn API instead.\n",
      "  plt.style.use('seaborn-whitegrid')\n"
     ]
    }
   ],
   "source": [
    "import matplotlib.pyplot as plt\n",
    "import numpy as np\n",
    "from collections import namedtuple\n",
    "import itertools\n",
    "\n",
    "np.set_printoptions(precision=3, suppress=1)\n",
    "plt.style.use('seaborn-notebook')\n",
    "plt.style.use('seaborn-whitegrid')\n",
    "\n",
    "from IPython.display import HTML, display\n",
    "\n",
    "def display_table(data, precision=1):\n",
    "    html = \"<table>\"\n",
    "    for row in data:\n",
    "        html += \"<tr>\"\n",
    "        for field in row:\n",
    "            html += \"<td><h4>%s</h4><td>\"%(np.round(field, precision))\n",
    "        html += \"</tr>\"\n",
    "    html += \"</table>\"\n",
    "    display(HTML(html))"
   ]
  },
  {
   "cell_type": "markdown",
   "metadata": {
    "colab_type": "text",
    "id": "ALrRR76eAd6u"
   },
   "source": [
    "## Environments: Grid-Worlds"
   ]
  },
  {
   "cell_type": "markdown",
   "metadata": {
    "colab_type": "text",
    "id": "uMC6nODK1HAV"
   },
   "source": [
    "**(Simple) Tabular Grid-World**\n",
    "\n",
    "You can visualize the grid worlds we will train our agents on, by running the cells below.\n",
    "`S` indicates the start state and `G` indicates the goal.  The agent has four possible actions: up, right, down, and left.  Rewards are: `-5` for bumping into a wall, `+10` for reaching the goal, and `0` otherwise.  The episode ends when the agent reaches the goal, and otherwise continues.  The discount, on continuing steps, is $\\gamma = 0.9$.\n",
    "Note that the environment is fully deterministic (i.e., taking an action in a given state always results in the same reward and next state!)\n",
    "\n",
    "We will use three distinct GridWorlds:\n",
    "* `Grid` tabular grid world with a goal in the top right of the grid\n",
    "* `AltGrid` tabular grid world with a goal in the bottom left of the grid"
   ]
  },
  {
   "cell_type": "code",
   "execution_count": 44,
   "metadata": {
    "cellView": "both",
    "colab": {},
    "colab_type": "code",
    "id": "YP97bVN3NuG8"
   },
   "outputs": [],
   "source": [
    "#@title Environment: Gridworld Implementation\n",
    "class Grid(object):\n",
    "\n",
    "  def __init__(self, discount=0.9, penalty_for_walls=-5):\n",
    "    # -1: wall\n",
    "    # 0: empty, episode continues\n",
    "    # other: number indicates reward, episode will terminate\n",
    "    # mace\n",
    "    self._layout = np.array([\n",
    "      [-1, -1, -1, -1, -1, -1, -1, -1, -1, -1],\n",
    "      [-1,  0,  0,  0,  0,  0, -1,  0,  0, -1],\n",
    "      [-1,  0,  0,  0, -1,  0,  0,  0, 10, -1],\n",
    "      [-1,  0,  0,  0, -1, -1,  0,  0,  0, -1],\n",
    "      [-1,  0,  0,  0,  0, -1,  0,  0,  0, -1],\n",
    "      [-1,  0,  0,  0,  0,  0,  0,  0,  0, -1], # borders = walls\n",
    "      [-1,  0,  -1,  0,  0,  0,  0,  0,  0, -1],\n",
    "      [-1,  0,  0,  0,  0,  0,  0,  0,  0, -1],\n",
    "      [-1, -1, -1, -1, -1, -1, -1, -1, -1, -1]\n",
    "    ])\n",
    "    self._start_state = (2, 2)\n",
    "    self._goal_state = (8, 2)\n",
    "    self._state = self._start_state\n",
    "    self._number_of_states = np.prod(np.shape(self._layout))\n",
    "    self._discount = discount\n",
    "    self._penalty_for_walls = penalty_for_walls\n",
    "    self._layout_dims = self._layout.shape\n",
    "\n",
    "  @property\n",
    "  def number_of_states(self):\n",
    "      return self._number_of_states\n",
    "    \n",
    "  def plot_grid(self):\n",
    "    plt.figure(figsize=(3, 3))\n",
    "    plt.imshow(self._layout <= -1, interpolation=\"nearest\")     \n",
    "    ax = plt.gca()\n",
    "    ax.grid(0)\n",
    "    plt.xticks([])\n",
    "    plt.yticks([])\n",
    "    plt.title(\"The grid\")\n",
    "    plt.text(\n",
    "        self._start_state[0], self._start_state[1], \n",
    "        r\"$\\mathbf{S}$\", ha='center', va='center')\n",
    "    plt.text(\n",
    "        self._goal_state[0], self._goal_state[1], \n",
    "        r\"$\\mathbf{G}$\", ha='center', va='center')\n",
    "    h, w = self._layout.shape\n",
    "    for y in range(h-1):\n",
    "      plt.plot([-0.5, w-0.5], [y+0.5, y+0.5], '-k', lw=2)\n",
    "    for x in range(w-1):\n",
    "      plt.plot([x+0.5, x+0.5], [-0.5, h-0.5], '-k', lw=2)\n",
    "\n",
    "  \n",
    "  def get_obs(self):\n",
    "    y, x = self._state\n",
    "    return y*self._layout.shape[1] + x\n",
    "  \n",
    "  def int_to_state(self, int_obs):\n",
    "    x = int_obs % self._layout.shape[1]\n",
    "    y = int_obs // self._layout.shape[1]\n",
    "    return y, x\n",
    "\n",
    "  def step(self, action): #not open ai \n",
    "    y, x = self._state\n",
    "\n",
    "    if action == 0:  # up\n",
    "      new_state = (y - 1, x)\n",
    "    elif action == 1:  # right\n",
    "      new_state = (y, x + 1)\n",
    "    elif action == 2:  # down\n",
    "      new_state = (y + 1, x)\n",
    "    elif action == 3:  # left\n",
    "      new_state = (y, x - 1)\n",
    "    else:\n",
    "      raise ValueError(\"Invalid action: {} is not 0, 1, 2, or 3.\".format(action))\n",
    "\n",
    "    new_y, new_x = new_state\n",
    "    if self._layout[new_y, new_x] == -1:  # wall\n",
    "      reward = self._penalty_for_walls\n",
    "      discount = self._discount\n",
    "      new_state = (y, x)\n",
    "    elif self._layout[new_y, new_x] == 0:  # empty cell\n",
    "      reward = 0.\n",
    "      discount = self._discount\n",
    "    else:  # a goal\n",
    "      reward = self._layout[new_y, new_x]\n",
    "      discount = 0.\n",
    "      new_state = self._start_state\n",
    "    \n",
    "    self._state = new_state\n",
    "    return reward, discount, self.get_obs()"
   ]
  },
  {
   "cell_type": "code",
   "execution_count": 45,
   "metadata": {
    "cellView": "both",
    "colab": {},
    "colab_type": "code",
    "id": "UXyPvOq-S2OT"
   },
   "outputs": [],
   "source": [
    "#@title Alternative Environment: Gridworld (with different goal state)\n",
    "class AltGrid(Grid):\n",
    "  \n",
    "    def __init__(self, discount=0.9, penalty_for_walls=-5):\n",
    "      # -1: wall\n",
    "      # 0: empty, episode continues\n",
    "      # other: number indicates reward, episode will terminate\n",
    "      self._layout = np.array([\n",
    "        [-1, -1, -1, -1, -1, -1, -1, -1, -1, -1],\n",
    "        [-1,  0,  0,  0,  0,  0,  0,  0,  0, -1],\n",
    "        [-1,  0,  0,  0, -1, -1,  0,  0,  0, -1],\n",
    "        [-1,  0,  0,  0, -1, -1,  0,  0,  0, -1],\n",
    "        [-1,  0,  0,  0, 0 ,  0,  0,  0,  0, -1],\n",
    "        [-1,  0,  0,  0,  0,  0,  0,  0,  0, -1],\n",
    "        [-1,  0,  0,  0,  0,  0,  0,  0,  0, -1],\n",
    "        [-1,  0, 10,  0,  0,  0,  0,  0,  0, -1],\n",
    "        [-1, -1, -1, -1, -1, -1, -1, -1, -1, -1]\n",
    "      ])\n",
    "      self._start_state = (2, 2)\n",
    "      self._goal_state = (2, 7)\n",
    "      self._state = self._start_state\n",
    "      self._number_of_states = np.prod(np.shape(self._layout))\n",
    "      self._discount = discount\n",
    "      self._penalty_for_walls = penalty_for_walls\n",
    "      self._layout_dims = self._layout.shape"
   ]
  },
  {
   "cell_type": "code",
   "execution_count": 46,
   "metadata": {
    "colab": {
     "base_uri": "https://localhost:8080/"
    },
    "colab_type": "code",
    "id": "ZVUhh2qqwep_",
    "outputId": "27fb169d-612d-4546-ef00-49b7ba793a4b"
   },
   "outputs": [
    {
     "data": {
      "image/png": "[encoded data removed]",
      "text/plain": [
       "<Figure size 300x300 with 1 Axes>"
      ]
     },
     "metadata": {},
     "output_type": "display_data"
    },
    {
     "data": {
      "image/png": "[encoded data removed]",
      "text/plain": [
       "<Figure size 300x300 with 1 Axes>"
      ]
     },
     "metadata": {},
     "output_type": "display_data"
    }
   ],
   "source": [
    "# Visualise the two environments\n",
    "\n",
    "# Instantiate the two tabular environments\n",
    "grid = Grid()\n",
    "alt_grid = AltGrid()\n",
    "\n",
    "# Plot tabular environments\n",
    "grid.plot_grid()\n",
    "alt_grid.plot_grid()"
   ]
  },
  {
   "cell_type": "markdown",
   "metadata": {},
   "source": [
    "# Policies\n",
    "\n",
    "We define two fixed policies:\n",
    "- a *random policy* that selects one of the 4 possible actions at random, with equal probability;\n",
    "- the $\\epsilon$-greedy policy, that selects the action with highest predicted future returns (using a tabular representation of the q-function Q(s,a)) with probability $1-\\epsilon$, and a random action with probability $\\epsilon$."
   ]
  },
  {
   "cell_type": "code",
   "execution_count": 47,
   "metadata": {
    "cellView": "both",
    "colab": {},
    "colab_type": "code",
    "id": "rbEydMqDKxZr"
   },
   "outputs": [],
   "source": [
    "#@title Policies (Uniformly random and e-greedy) \n",
    "#Expected syntax: `policy(q_values)` \n",
    "\n",
    "# uniformly random policy\n",
    "def random_policy(q):\n",
    "  return np.random.randint(4)\n",
    "\n",
    "# epilson-greedy policy\n",
    "def epsilon_greedy(q_values, epsilon=0.1): #vector of q-values \n",
    "  if epsilon < np.random.random():\n",
    "    return np.argmax(q_values)\n",
    "  else:\n",
    "    return np.random.randint(np.array(q_values).shape[-1]) #90% the right one"
   ]
  },
  {
   "cell_type": "markdown",
   "metadata": {
    "colab_type": "text",
    "id": "cOu9RZY3AkF1"
   },
   "source": [
    "## Helper functions (for visualization and running experiments)"
   ]
  },
  {
   "cell_type": "code",
   "execution_count": 48,
   "metadata": {
    "cellView": "form",
    "colab": {},
    "colab_type": "code",
    "id": "6EttQGJ1n5Zn"
   },
   "outputs": [],
   "source": [
    "#@title Helper functions for visualisation\n",
    "\n",
    "map_from_action_to_subplot = lambda a: (2, 6, 8, 4)[a]\n",
    "map_from_action_to_name = lambda a: (\"up\", \"right\", \"down\", \"left\")[a]\n",
    "\n",
    "def plot_values(values, colormap='pink', vmin=-1, vmax=10):\n",
    "  plt.imshow(values, interpolation=\"nearest\", cmap=colormap, vmin=vmin, vmax=vmax)\n",
    "  plt.yticks([])\n",
    "  plt.xticks([])\n",
    "  plt.colorbar(ticks=[vmin, vmax])\n",
    "\n",
    "def plot_state_value(action_values, epsilon=0.1):\n",
    "  q = action_values\n",
    "  fig = plt.figure(figsize=(4, 4))\n",
    "  vmin = np.min(action_values)\n",
    "  vmax = np.max(action_values)\n",
    "  v = (1 - epsilon) * np.max(q, axis=-1) + epsilon * np.mean(q, axis=-1)\n",
    "  plot_values(v, colormap='summer', vmin=vmin, vmax=vmax)\n",
    "  plt.title(\"$v(s)$\")\n",
    "\n",
    "def plot_action_values(action_values, epsilon=0.1):\n",
    "  q = action_values\n",
    "  fig = plt.figure(figsize=(8, 8))\n",
    "  fig.subplots_adjust(wspace=0.3, hspace=0.3)\n",
    "  vmin = np.min(action_values)\n",
    "  vmax = np.max(action_values)\n",
    "  dif = vmax - vmin\n",
    "  for a in [0, 1, 2, 3]:\n",
    "    plt.subplot(3, 3, map_from_action_to_subplot(a))\n",
    "    \n",
    "    plot_values(q[..., a], vmin=vmin - 0.05*dif, vmax=vmax + 0.05*dif)\n",
    "    action_name = map_from_action_to_name(a)\n",
    "    plt.title(r\"$q(s, \\mathrm{\" + action_name + r\"})$\")\n",
    "    \n",
    "  plt.subplot(3, 3, 5)\n",
    "  v = (1 - epsilon) * np.max(q, axis=-1) + epsilon * np.mean(q, axis=-1)\n",
    "  plot_values(v, colormap='summer', vmin=vmin, vmax=vmax)\n",
    "  plt.title(\"$v(s)$\")\n",
    "      \n",
    "  \n",
    "def smooth(x, window=10):\n",
    "  return x[:window*(len(x)//window)].reshape(len(x)//window, window).mean(axis=1)\n",
    "  \n",
    "\n",
    "def plot_stats(stats, window=10):\n",
    "  plt.figure(figsize=(16,4))\n",
    "  plt.subplot(121)\n",
    "  xline = range(0, len(stats.episode_lengths), window)\n",
    "  plt.plot(xline, smooth(stats.episode_lengths, window=window))\n",
    "  plt.ylabel('Episode Length')\n",
    "  plt.xlabel('Episode Count')\n",
    "  plt.subplot(122)\n",
    "  plt.plot(xline, smooth(stats.episode_rewards, window=window))\n",
    "  plt.ylabel('Episode Return')\n",
    "  plt.xlabel('Episode Count')"
   ]
  },
  {
   "cell_type": "code",
   "execution_count": 49,
   "metadata": {
    "cellView": "form",
    "colab": {},
    "colab_type": "code",
    "id": "aWmvMHR5gM6N"
   },
   "outputs": [],
   "source": [
    "#@title Helper functions for visualizing policies. Policies are represented as arrows pointing in the direction the agent will move from each cell.\n",
    "def plot_policy(grid, policy):\n",
    "  action_names = [r\"$\\uparrow$\",r\"$\\rightarrow$\", r\"$\\downarrow$\", r\"$\\leftarrow$\"]\n",
    "  grid.plot_grid()\n",
    "  plt.title('Policy Visualization')\n",
    "  for i in range(9):\n",
    "    for j in range(10):\n",
    "      action_name = action_names[policy[i,j]]\n",
    "      plt.text(j, i, action_name, ha='center', va='center')\n",
    "\n",
    "def plot_greedy_policy(grid, q):\n",
    "  action_names = [r\"$\\uparrow$\",r\"$\\rightarrow$\", r\"$\\downarrow$\", r\"$\\leftarrow$\"]\n",
    "  greedy_actions = np.argmax(q, axis=2)\n",
    "  grid.plot_grid()\n",
    "  plt.title('Greedy Policy')\n",
    "  for i in range(9):\n",
    "    for j in range(10):\n",
    "      action_name = action_names[greedy_actions[i,j]]\n",
    "      plt.text(j, i, action_name, ha='center', va='center')"
   ]
  },
  {
   "cell_type": "markdown",
   "metadata": {
    "colab_type": "text",
    "id": "mvtblbKfINQB"
   },
   "source": [
    "## Agent - Environment Interaction "
   ]
  },
  {
   "cell_type": "code",
   "execution_count": 50,
   "metadata": {},
   "outputs": [],
   "source": [
    "from tqdm import tqdm"
   ]
  },
  {
   "cell_type": "code",
   "execution_count": 51,
   "metadata": {
    "cellView": "both",
    "colab": {},
    "colab_type": "code",
    "id": "U86SLdA25GAY"
   },
   "outputs": [],
   "source": [
    "#@title [IMPORTANT] Running the experiments\n",
    "\n",
    "# Simple interaction loop with the MDP:\n",
    "# 1) Interact with the environment\n",
    "# 2) Agent gets observation, rewards, and discount from env. \n",
    "# and is expected to produce the next action\n",
    "def run_experiment(env, agent, number_of_steps):\n",
    "    mean_reward = 0.\n",
    "    try:\n",
    "      action = agent.initial_action()\n",
    "    except AttributeError:\n",
    "      action = 0\n",
    "      \n",
    "    # Interaction wih the MDP\n",
    "    for i in tqdm(range(number_of_steps)):\n",
    "      reward, discount, next_state = env.step(action)\n",
    "      action = agent.step(reward, discount, next_state)\n",
    "      mean_reward += (reward - mean_reward)/(i + 1.)\n",
    "\n",
    "    return mean_reward"
   ]
  },
  {
   "attachments": {},
   "cell_type": "markdown",
   "metadata": {
    "colab_type": "text",
    "id": "fzpb_dGVjT0O"
   },
   "source": [
    "# RL Lab - Part 1: Tabular Agents\n",
    "\n",
    "Q-table (Tabular agent) =  \n",
    "- row = state\n",
    "- column = action\n",
    "- entry = q-value (expected return)\n",
    "\n",
    "Each agent, should implement a step function:\n",
    "\n",
    "### `__init__(self, number_of_actions, number_of_states, initial_observation)`:\n",
    "The constructor will provide the agent the number of actions, number of states, and the initial observation. You can get the initial observation by first instatiating an environment, using `grid = Grid()`, and then calling `grid.get_obs()`.\n",
    "\n",
    "Note: All agents should be in pure Python, no TensorFlow needed for this part.\n",
    "\n",
    "### `step(self, reward, discount, next_observation, ...)`:\n",
    "where `...` indicates there could be other inputs (discussed below).  The step should update the internal values, and return a new action to take.\n",
    "\n",
    "When the discount is zero ($\\text{discount} = \\gamma = 0$), then the `next_observation` will be the initial observation of the next episode.  One shouldn't bootstrap on the value of this state, which can simply be guaranteed when using $\\gamma \\cdot \\text{v(next_observation)})$ (for whatever definition of v is appropriate) in the update, because $\\gamma = 0$.  So, the end of an episode can be seamlessly handled with the same step function.\n",
    "\n",
    "### `q_values()`:\n",
    "\n",
    "Tabular agents implement a function `q_values()` returning a matrix of Q values of shape: (`number_of_states`, `number_of_actions`)\n",
    "\n",
    "\n",
    "### A note on the initial action\n",
    "Normally, you would also have to implement a method that gives the initial action, based on the initial state.  As a convention, we will use the action `0` (which corresponds to `up`) as initial action.  Note that this initial action is only executed once, and the beginning of the first episode---not at the beginning of each episode.\n",
    "\n",
    "Q-learning and it's variants needs to remember the last action in order to update its value when they see the next state.  In the `__init__`, make sure you set the initial action to zero, e.g.,\n",
    "```\n",
    "def __init__(...):\n",
    "  (...)\n",
    "  self._action = 0\n",
    "  (...)\n",
    "```\n"
   ]
  },
  {
   "cell_type": "markdown",
   "metadata": {
    "colab_type": "text",
    "id": "B8oKd0oyvNcH"
   },
   "source": [
    "\n",
    "## 1.0: Overview\n",
    "\n",
    "We are going to implement:\n",
    "- Prediction problem: Policy Evaluation\n",
    "- Towards control: Greedy Improvement \n",
    "- Online Tabular SARSA Agent\n",
    "- Online Tabular Q-learning Agent\n",
    "- Tabular Experience Replay Q-learning Agent\n",
    "\n",
    "\n",
    "\n",
    "\n",
    "\n"
   ]
  },
  {
   "attachments": {},
   "cell_type": "markdown",
   "metadata": {
    "colab_type": "text",
    "id": "5XEP4mf4Jx70"
   },
   "source": [
    "\n",
    "## 1.1: Policy evaluation and Greedy Improvement\n",
    "\n",
    "The purpose here is to evaluate a given policy $\\pi$ -- compute the value function assoicated with following/employing this policy in a given MDP.\n",
    "\n",
    "$$ Q^{\\pi}(s, a) = \\mathbb{E}_\\pi [G_0 | S_0=s,A_0=a]$$\n",
    "\n",
    "Algorithm:\n",
    "\n",
    "**Initialize** $Q(s, a)$ for all s ∈ $\\mathcal{S}$ and a ∈ $\\mathcal{A}(s)$\n",
    "\n",
    "**Loop forever** (interact with the environment using policy $\\pi$ to collect experiences (S,A,R,S') ):\n",
    "\n",
    "1. $S \\gets{}$current (nonterminal) state\n",
    " \n",
    "2. $A \\gets{} \\text{behaviour_policy}(S)$\n",
    " \n",
    "3. Take action $A$; observe resulting reward $R$, discount $\\gamma$, and state, $S'$\n",
    "\n",
    "4. $Q(S, A) \\gets Q(S, A) + \\alpha (R + \\gamma Q(S', \\pi(S')) − Q(S, A))$\n",
    "- Alpha = monte carlo"
   ]
  },
  {
   "attachments": {},
   "cell_type": "markdown",
   "metadata": {},
   "source": [
    "# learned about policy evaluation:\n",
    "- Value and q function are also function of a policy ()"
   ]
  },
  {
   "cell_type": "code",
   "execution_count": 52,
   "metadata": {
    "cellView": "both",
    "colab": {},
    "colab_type": "code",
    "id": "_IWIHIvxyC-H"
   },
   "outputs": [
    {
     "ename": "SyntaxError",
     "evalue": "invalid syntax (3644146885.py, line 38)",
     "output_type": "error",
     "traceback": [
      "\u001b[1;36m  Cell \u001b[1;32mIn[52], line 38\u001b[1;36m\u001b[0m\n\u001b[1;33m    next_q_values =\u001b[0m\n\u001b[1;37m                    ^\u001b[0m\n\u001b[1;31mSyntaxError\u001b[0m\u001b[1;31m:\u001b[0m invalid syntax\n"
     ]
    }
   ],
   "source": [
    "#@title [Coding Task] Policy Evaluation AGENT\n",
    "# EXERCISE: fill in the code below;  the solution is given in the next cell.\n",
    "class PolicyEval_AGENT(object):\n",
    "\n",
    "  def __init__(\n",
    "      self, number_of_states, number_of_actions, initial_state, \n",
    "      evaluated_policy, \n",
    "      behaviour_policy=random_policy, \n",
    "      step_size=0.1):\n",
    "    self._action = 0\n",
    "    self._state = initial_state\n",
    "    self._number_of_states = number_of_states\n",
    "    self._number_of_actions = number_of_actions\n",
    "    self._step_size = step_size\n",
    "    self._behaviour_policy = behaviour_policy\n",
    "    self._evaluated_policy = evaluated_policy\n",
    "    \n",
    "    # ============ YOUR CODE HERE =============\n",
    "    # initialize your q-values (this is a table of state and action pairs\n",
    "    # Note: this can be random, but the code was tested w/ zero-initialization \n",
    "    self._q = np.zeros(number_of_states, number_of_action)\n",
    "    pass\n",
    "  \n",
    "  # private attributes\n",
    "  @property\n",
    "  def q_values(self):\n",
    "    return self._q\n",
    "\n",
    "  def step(self, reward, discount, next_state):\n",
    "    s = self._state\n",
    "    a = self._action\n",
    "    r = reward\n",
    "    g = discount\n",
    "    next_s = next_state\n",
    "    \n",
    "    # ============ YOUR CODE HERE =============\n",
    "    # Q-value table update\n",
    "    next_q_values = \n",
    "  \n",
    "    # Get the action to send to execute in the environment and return it\n",
    "    self._action = self._behaviour_policy(next_q_values)\n",
    "    self._state = next_s\n",
    "\n",
    "\n",
    "    return self._action\n",
    "    "
   ]
  },
  {
   "cell_type": "code",
   "execution_count": 53,
   "metadata": {
    "cellView": "form",
    "colab": {},
    "colab_type": "code",
    "id": "M4CfG2qjpMXp"
   },
   "outputs": [],
   "source": [
    "#@title Solution: Policy Evaluation AGENT\n",
    "class PolicyEval_AGENT(object):\n",
    "\n",
    "  def __init__(\n",
    "      self, number_of_states, number_of_actions, initial_state, evaluated_policy, \n",
    "      behaviour_policy=random_policy, step_size=0.1): \n",
    "    self._action = 0\n",
    "    self._state = initial_state\n",
    "    self._number_of_states = number_of_states\n",
    "    self._number_of_actions = number_of_actions\n",
    "    self._step_size = step_size\n",
    "    self._behaviour_policy = behaviour_policy\n",
    "    self._evaluated_policy = evaluated_policy\n",
    "    self._q = np.zeros((number_of_states, number_of_actions))\n",
    "    \n",
    "  @property\n",
    "  def q_values(self):\n",
    "    return self._q\n",
    "\n",
    "  def step(self, reward, discount, next_state):\n",
    "    s = self._state\n",
    "    a = self._action\n",
    "    r = reward\n",
    "    g = discount\n",
    "    next_s = next_state\n",
    "    next_a = self._evaluated_policy(self._q[next_s])\n",
    "\n",
    "    # Online Q-value update\n",
    "    td_error = r + g * self._q[next_s, next_a] - self._q[s, a]\n",
    "    self._q[s, a] += self._step_size * td_error\n",
    "\n",
    "    # Act\n",
    "    self._state = next_state\n",
    "    self._action = self._behaviour_policy(self._q[next_state])\n",
    "    return self._action"
   ]
  },
  {
   "cell_type": "markdown",
   "metadata": {
    "colab_type": "text",
    "id": "TCPr9KzBtFJ3"
   },
   "source": [
    "**Task 1**: Run the policy evaluation agent, evaluating the uniformly random policy  on the AltGrid() environment for $\\texttt{num_steps} = 1e3, 1e5$. \n",
    "\n",
    "Visualise the resulting value functions $Q(s,a)$. Plotting function is provided for you and it takes in a table of q-values"
   ]
  },
  {
   "cell_type": "code",
   "execution_count": 54,
   "metadata": {
    "cellView": "both",
    "colab": {
     "base_uri": "https://localhost:8080/",
     "height": 494
    },
    "colab_type": "code",
    "id": "mCWq1yKWp76Y",
    "outputId": "04fed259-52fb-4f6b-bcaa-c3db8d0b2833"
   },
   "outputs": [
    {
     "name": "stderr",
     "output_type": "stream",
     "text": [
      "100%|██████████| 100000/100000 [00:02<00:00, 45482.52it/s]\n"
     ]
    },
    {
     "name": "stdout",
     "output_type": "stream",
     "text": [
      "AFTER 100000 STEPS ...\n"
     ]
    },
    {
     "data": {
      "image/png": "[encoded data removed]",
      "text/plain": [
       "<Figure size 800x800 with 10 Axes>"
      ]
     },
     "metadata": {},
     "output_type": "display_data"
    },
    {
     "data": {
      "image/png": "[encoded data removed]",
      "text/plain": [
       "<Figure size 300x300 with 1 Axes>"
      ]
     },
     "metadata": {},
     "output_type": "display_data"
    }
   ],
   "source": [
    "num_steps = int(1e5) # @param\n",
    "\n",
    "# environment\n",
    "#grid = AltGrid()\n",
    "grid = Grid()\n",
    "\n",
    "# agent \n",
    "agent = PolicyEval_AGENT(\n",
    "    number_of_states=grid._layout.size, \n",
    "    number_of_actions=4, \n",
    "    initial_state=grid.get_obs(),\n",
    "    evaluated_policy=random_policy,\n",
    "    behaviour_policy=random_policy,\n",
    "    step_size=0.1)\n",
    "\n",
    "# run experiment and get the value functions from agent\n",
    "run_experiment(grid, agent, num_steps)\n",
    "\n",
    "# get the q-values\n",
    "q = agent.q_values.reshape(grid._layout.shape + (4,))\n",
    "\n",
    "# visualize value functions\n",
    "print('AFTER {} STEPS ...'.format(num_steps))\n",
    "plot_action_values(q, epsilon=1.)\n",
    "\n",
    "grid.plot_grid() \n",
    "# q function for each function\n",
    "# actual value function middle (highest expected reward) (maximum of all other 4) # currently low expected value\n",
    "# poilicy is random -> starting in moiddle top -> bumping into wall is possible # "
   ]
  },
  {
   "cell_type": "markdown",
   "metadata": {
    "colab_type": "text",
    "id": "WN-KBoc2w9Na"
   },
   "source": [
    "**Task 2: [Greedy Policy Improvement]** Compute and Visualise the greedy policy based on the above evaluation, at the end of the training process for $\\texttt{num_steps} = 1e5$.\n",
    "\n",
    "\n",
    "$$ \\pi_{greedy} (a|s) = \\arg\\max_a Q(s,a) $$\n",
    "\n",
    "\n",
    "**Q: ** What do you observe? (Remember that we are evaluating the uniformly random policy)"
   ]
  },
  {
   "cell_type": "code",
   "execution_count": 55,
   "metadata": {
    "colab": {
     "base_uri": "https://localhost:8080/",
     "height": 197
    },
    "colab_type": "code",
    "id": "q5XBEXuqufcy",
    "outputId": "2421a94a-bf1f-4d3a-b9fb-282966bbadea",
    "scrolled": false
   },
   "outputs": [
    {
     "name": "stdout",
     "output_type": "stream",
     "text": [
      "Estimated value function, for reference:\n"
     ]
    },
    {
     "data": {
      "text/html": [
       "<table><tr><td><h4>0.0</h4><td><td><h4>0.0</h4><td><td><h4>0.0</h4><td><td><h4>0.0</h4><td><td><h4>0.0</h4><td><td><h4>0.0</h4><td><td><h4>0.0</h4><td><td><h4>0.0</h4><td><td><h4>0.0</h4><td><td><h4>0.0</h4><td></tr><tr><td><h4>0.0</h4><td><td><h4>-10.9</h4><td><td><h4>-8.9</h4><td><td><h4>-9.4</h4><td><td><h4>-12.5</h4><td><td><h4>-12.2</h4><td><td><h4>0.0</h4><td><td><h4>1.0</h4><td><td><h4>9.9</h4><td><td><h4>0.0</h4><td></tr><tr><td><h4>0.0</h4><td><td><h4>-9.3</h4><td><td><h4>-8.2</h4><td><td><h4>-8.7</h4><td><td><h4>0.0</h4><td><td><h4>-5.7</h4><td><td><h4>1.0</h4><td><td><h4>10.0</h4><td><td><h4>0.0</h4><td><td><h4>0.0</h4><td></tr><tr><td><h4>0.0</h4><td><td><h4>-8.2</h4><td><td><h4>-7.6</h4><td><td><h4>-7.9</h4><td><td><h4>0.0</h4><td><td><h4>0.0</h4><td><td><h4>-2.9</h4><td><td><h4>-1.1</h4><td><td><h4>10.0</h4><td><td><h4>0.0</h4><td></tr><tr><td><h4>0.0</h4><td><td><h4>-7.7</h4><td><td><h4>-7.8</h4><td><td><h4>-7.5</h4><td><td><h4>-7.0</h4><td><td><h4>0.0</h4><td><td><h4>-3.9</h4><td><td><h4>-2.7</h4><td><td><h4>-1.7</h4><td><td><h4>0.0</h4><td></tr><tr><td><h4>0.0</h4><td><td><h4>-8.8</h4><td><td><h4>-7.8</h4><td><td><h4>-7.1</h4><td><td><h4>-5.9</h4><td><td><h4>-5.3</h4><td><td><h4>-4.5</h4><td><td><h4>-3.8</h4><td><td><h4>-4.0</h4><td><td><h4>0.0</h4><td></tr><tr><td><h4>0.0</h4><td><td><h4>-11.8</h4><td><td><h4>0.0</h4><td><td><h4>-7.0</h4><td><td><h4>-6.4</h4><td><td><h4>-5.6</h4><td><td><h4>-5.4</h4><td><td><h4>-4.8</h4><td><td><h4>-6.7</h4><td><td><h4>0.0</h4><td></tr><tr><td><h4>0.0</h4><td><td><h4>-14.9</h4><td><td><h4>-11.0</h4><td><td><h4>-9.1</h4><td><td><h4>-7.2</h4><td><td><h4>-5.9</h4><td><td><h4>-5.8</h4><td><td><h4>-6.2</h4><td><td><h4>-7.9</h4><td><td><h4>0.0</h4><td></tr><tr><td><h4>0.0</h4><td><td><h4>0.0</h4><td><td><h4>0.0</h4><td><td><h4>0.0</h4><td><td><h4>0.0</h4><td><td><h4>0.0</h4><td><td><h4>0.0</h4><td><td><h4>0.0</h4><td><td><h4>0.0</h4><td><td><h4>0.0</h4><td></tr></table>"
      ],
      "text/plain": [
       "<IPython.core.display.HTML object>"
      ]
     },
     "metadata": {},
     "output_type": "display_data"
    },
    {
     "name": "stdout",
     "output_type": "stream",
     "text": [
      "None\n"
     ]
    },
    {
     "data": {
      "image/png": "[encoded data removed]",
      "text/plain": [
       "<Figure size 300x300 with 1 Axes>"
      ]
     },
     "metadata": {},
     "output_type": "display_data"
    }
   ],
   "source": [
    "# visualize the greedy policy (whatever works for you, \n",
    "# but you should be able to see what the agent would do\n",
    "# at each step/state).\n",
    "\n",
    "pi = np.zeros(grid._layout_dims, dtype=np.int32)\n",
    "for i in range(grid._layout_dims[0]):\n",
    "  for j in range(grid._layout_dims[1]):\n",
    "    pi[i, j] = epsilon_greedy(q[i, j], epsilon=0.) # Greedy policy, $\\epsilon=0$\n",
    "# no more random actions ->    \n",
    "\n",
    "plot_policy(grid, pi)\n",
    "\n",
    "print(\"Estimated value function, for reference:\") # greedy = select highest probabiliy\n",
    "value = np.max(q,-1)\n",
    "print(display_table(value))"
   ]
  },
  {
   "cell_type": "markdown",
   "metadata": {
    "colab_type": "text",
    "id": "_hLuA4e_zaiW"
   },
   "source": [
    "**Task 3**: Re-run the same experiment: policy evaluation agent on the Grid() environment for $\\texttt{num_steps} = 1e5$\n",
    "and visualise the resulting value functions and the greedy policy on top of these values at the end of training.\n",
    "\n",
    "**Q: ** What do you observe? \n",
    "- How does this policy compare with the optimal one?\n",
    "- Try running the training process longer -- what do you observe?"
   ]
  },
  {
   "cell_type": "code",
   "execution_count": 56,
   "metadata": {
    "colab": {
     "base_uri": "https://localhost:8080/",
     "height": 476
    },
    "colab_type": "code",
    "id": "GZS4CfLtzaiX",
    "outputId": "a2e64283-861a-48c1-f264-2965bde2c3f7"
   },
   "outputs": [
    {
     "name": "stderr",
     "output_type": "stream",
     "text": [
      "100%|██████████| 100000/100000 [00:02<00:00, 44780.22it/s]\n"
     ]
    },
    {
     "data": {
      "image/png": "[encoded data removed]",
      "text/plain": [
       "<Figure size 800x800 with 10 Axes>"
      ]
     },
     "metadata": {},
     "output_type": "display_data"
    }
   ],
   "source": [
    "num_steps = int(1e5) # @param\n",
    "\n",
    "grid = Grid()\n",
    "\n",
    "agent = PolicyEval_AGENT(\n",
    "    number_of_states=grid._layout.size, \n",
    "    number_of_actions=4, \n",
    "    initial_state=grid.get_obs(),\n",
    "    evaluated_policy=random_policy,\n",
    "    behaviour_policy=random_policy,\n",
    "    step_size=0.1)\n",
    "\n",
    "# run experiment and get the value functions from agent\n",
    "run_experiment(grid, agent, num_steps)\n",
    "q = agent.q_values.reshape(grid._layout.shape + (4,))\n",
    "\n",
    "# visualise value functions\n",
    "plot_action_values(q, epsilon=1.)"
   ]
  },
  {
   "cell_type": "code",
   "execution_count": 57,
   "metadata": {
    "colab": {
     "base_uri": "https://localhost:8080/",
     "height": 197
    },
    "colab_type": "code",
    "id": "i1cC9EZJzaia",
    "outputId": "81527e1c-1602-4854-b85a-72deec48491d"
   },
   "outputs": [
    {
     "data": {
      "image/png": "[encoded data removed]",
      "text/plain": [
       "<Figure size 300x300 with 1 Axes>"
      ]
     },
     "metadata": {},
     "output_type": "display_data"
    }
   ],
   "source": [
    "# visualise the greedy policy\n",
    "plot_greedy_policy(grid, q)"
   ]
  },
  {
   "attachments": {},
   "cell_type": "markdown",
   "metadata": {
    "colab_type": "text",
    "id": "dbODeOkjyUEm"
   },
   "source": [
    "## 1.2 On-policy control: SARSA Agent\n",
    "- converges to the actual best\n",
    "In the following we are going to be concern with the control problem -- inferring the **optimal value/policy** that will 'solve' the MDP. The first algorithm we are going to be looking at is SARSA. \n",
    "\n",
    "Note: This is an **on-policy algoritm** -- i.e: the data collection is done on-policy.\n",
    "\n",
    "\n",
    "**Initialize** $Q(s, a)$ for all s ∈ S and a ∈ A(s)\n",
    "\n",
    "**Loop forever**:\n",
    "\n",
    "1. $S \\gets{}$current (nonterminal) state\n",
    " \n",
    "2. $A \\gets{} \\text{current_policy}(S)$\n",
    " \n",
    "3. Take action $A$; observe resultant reward $R$, discount $\\gamma$, and state, $S'$\n",
    "\n",
    "4. $Q(S, A) \\gets Q(S, A) + \\alpha (R + \\gamma Q(S', A') − Q(S, A))$\n",
    "\n",
    "Note that now we are using A' to get the estimate of the next state-action value!"
   ]
  },
  {
   "attachments": {},
   "cell_type": "markdown",
   "metadata": {},
   "source": [
    "- SARSA is on-policy \n",
    "- Q-learning is off-policy (does not need the current policy to learn)\n",
    "    - TD Learning!"
   ]
  },
  {
   "cell_type": "code",
   "execution_count": 58,
   "metadata": {
    "cellView": "both",
    "colab": {},
    "colab_type": "code",
    "id": "2g1cXTvXjJ7d"
   },
   "outputs": [],
   "source": [
    "#@title [Coding Task] SARSA Agent\n",
    "# EXERCISE: solution given in the cell below.\n",
    "class SARSA_AGENT(object):\n",
    "\n",
    "  def __init__(\n",
    "      self, number_of_states, number_of_actions, initial_state, \n",
    "      behaviour_policy, num_offline_updates=0, step_size=0.1):\n",
    "    self._q = np.zeros((number_of_states, number_of_actions))\n",
    "    self._state = initial_state\n",
    "    self._number_of_states = number_of_states\n",
    "    self._number_of_actions = number_of_actions\n",
    "    self._step_size = step_size\n",
    "    self._behaviour_policy = behaviour_policy\n",
    "    self._action = 0\n",
    "    self._replay_buffer = []\n",
    "    \n",
    "  @property\n",
    "  def q_values(self):\n",
    "    return self._q\n",
    "\n",
    "  def step(self, reward, discount, next_state):\n",
    "    s = self._state\n",
    "    a = self._action\n",
    "    r = reward\n",
    "    g = discount\n",
    "    next_s = next_state\n",
    "    \n",
    "    # ============ YOUR CODE HERE =============\n",
    "    # Q-value table update\n",
    "    # td_error =\n",
    "    # self._q[s, a] =\n",
    "    pass\n",
    "  \n",
    "    # Get the action to send to execute in the environment and return it\n",
    "    self._state = next_state\n",
    "    self._action = self._behaviour_policy(self._q[next_state])\n",
    "    \n",
    "    return self._action"
   ]
  },
  {
   "cell_type": "code",
   "execution_count": 59,
   "metadata": {
    "cellView": "form",
    "colab": {},
    "colab_type": "code",
    "id": "n14aPXdzxkpS"
   },
   "outputs": [],
   "source": [
    "#@title Solution: SARSA Agent\n",
    "class SARSA_AGENT(object):\n",
    "\n",
    "  def __init__(\n",
    "      self, number_of_states, number_of_actions, initial_state,\n",
    "      behaviour_policy, step_size=0.1): \n",
    "    self._q = np.zeros((number_of_states, number_of_actions))\n",
    "    self._state = initial_state\n",
    "    self._number_of_states = number_of_states\n",
    "    self._number_of_actions = number_of_actions\n",
    "    self._step_size = step_size\n",
    "    self._behaviour_policy = behaviour_policy\n",
    "    self._action = 0\n",
    "    self._replay_buffer = []\n",
    "    \n",
    "  @property\n",
    "  def q_values(self):\n",
    "    return self._q\n",
    "\n",
    "  def step(self, reward, discount, next_state):\n",
    "    s = self._state\n",
    "    a = self._action\n",
    "    r = reward\n",
    "    g = discount\n",
    "    next_s = next_state\n",
    "    next_a = self._behaviour_policy(self._q[next_s])\n",
    "    \n",
    "    # Online Q-value update\n",
    "    td_error = r + g * self._q[next_s, next_a] - self._q[s, a]\n",
    "    self._q[s, a] += self._step_size * td_error\n",
    "\n",
    "    # Act\n",
    "    self._state = next_state\n",
    "    self._action = self._behaviour_policy(self._q[next_state])\n",
    "    return self._action"
   ]
  },
  {
   "cell_type": "markdown",
   "metadata": {
    "colab_type": "text",
    "id": "KDjmJOD161Hx"
   },
   "source": [
    "**Task**: Run the SARSA agent with different levels of exploration. \n",
    "\n",
    "- Moderate exploration: $\\texttt{epsilon} = 0.1$. \n",
    "\n",
    "- Very exploratory strategy: $\\texttt{epsilon} = 0.5, 1.0$.\n",
    "\n",
    "**Q**: Which do you expect, without running the experiment, to do better?  \n",
    "\n",
    " **Run multiple times**: What do you observe? ($\\texttt{epsilon} = 0.1$)\n",
    "\n",
    "\n"
   ]
  },
  {
   "cell_type": "code",
   "execution_count": 60,
   "metadata": {
    "colab": {
     "base_uri": "https://localhost:8080/",
     "height": 674
    },
    "colab_type": "code",
    "id": "qRHL8d6Q5ua5",
    "outputId": "5e5baeab-d38a-4260-edd6-3cdfba0a2889"
   },
   "outputs": [
    {
     "name": "stderr",
     "output_type": "stream",
     "text": [
      "100%|██████████| 1000000/1000000 [00:27<00:00, 36096.88it/s]\n"
     ]
    },
    {
     "name": "stdout",
     "output_type": "stream",
     "text": [
      "AFTER 1000000 STEPS ...\n"
     ]
    },
    {
     "data": {
      "image/png": "[encoded data removed]",
      "text/plain": [
       "<Figure size 800x800 with 10 Axes>"
      ]
     },
     "metadata": {},
     "output_type": "display_data"
    },
    {
     "data": {
      "image/png": "[encoded data removed]",
      "text/plain": [
       "<Figure size 300x300 with 1 Axes>"
      ]
     },
     "metadata": {},
     "output_type": "display_data"
    }
   ],
   "source": [
    "epsilon = 0.5 #@param\n",
    "num_steps = int(1e6) #@param\n",
    "\n",
    "# not explore enough = does not find all paths\n",
    "\n",
    "grid = Grid(discount=0.9, penalty_for_walls=-1.)\n",
    "\n",
    "behavior_policy = lambda qval: epsilon_greedy(qval, epsilon=epsilon)\n",
    "agent = SARSA_AGENT(\n",
    "    number_of_states=grid._layout.size, \n",
    "    number_of_actions=4, \n",
    "    initial_state=grid.get_obs(),\n",
    "    behaviour_policy=behavior_policy,\n",
    "    step_size=0.1)\n",
    "\n",
    "# run experiment and get the value functions from agent\n",
    "run_experiment(grid, agent, num_steps)\n",
    "q = agent.q_values.reshape(grid._layout.shape + (4,))\n",
    "\n",
    "# visualize value functions\n",
    "print('AFTER {} STEPS ...'.format(num_steps))\n",
    "plot_action_values(q, epsilon=epsilon)\n",
    "\n",
    "# visualise the greedy policy\n",
    "plot_greedy_policy(grid, q)"
   ]
  },
  {
   "cell_type": "markdown",
   "metadata": {
    "colab_type": "text",
    "id": "WxjNg2_O-Dct"
   },
   "source": [
    "## 1.3 Off-policy control: Q-learning Agent\n",
    "\n",
    "Reminder: Q-learning is a very powerful and general algorithm, that enable control (figuring out the optimal policy/value function) both on and off-policy.\n",
    "\n",
    "**Initialize** $Q(s, a)$ for all s ∈ S and a ∈ A(s)\n",
    "\n",
    "**Loop forever**:\n",
    "\n",
    "1. $S \\gets{}$current (nonterminal) state\n",
    " \n",
    "2. $A \\gets{} \\text{behaviour_policy}(S)$\n",
    " \n",
    "3. Take action $A$; observe resultant reward $R$, discount $\\gamma$, and state, $S'$\n",
    "\n",
    "4. $Q(S, A) \\gets Q(S, A) + \\alpha (R + \\gamma \\max_a Q(S', a) − Q(S, A))$\n",
    "\n",
    "Note that this time we take the maximum possible next Q value in state S'.\n"
   ]
  },
  {
   "cell_type": "code",
   "execution_count": 61,
   "metadata": {
    "colab": {},
    "colab_type": "code",
    "id": "D9MR0wQ-jS_C"
   },
   "outputs": [],
   "source": [
    "#@title [Coding Task] Q-learning AGENT\n",
    "# EXERCISE: solution in the cell below.\n",
    "class QLearning_AGENT(object):\n",
    "\n",
    "  def __init__(\n",
    "      self, number_of_states, number_of_actions, initial_state, \n",
    "      behaviour_policy, num_offline_updates=0, step_size=0.1):\n",
    "    self._q = np.zeros((number_of_states, number_of_actions))\n",
    "    self._state = initial_state\n",
    "    self._action = 0\n",
    "    self._number_of_states = number_of_states\n",
    "    self._number_of_actions = number_of_actions\n",
    "    self._step_size = step_size\n",
    "    self._behaviour_policy = behaviour_policy\n",
    "    pass\n",
    "    \n",
    "  @property\n",
    "  def q_values(self):\n",
    "    pass\n",
    "\n",
    "  def step(self, reward, discount, next_state):\n",
    "    s = self._state\n",
    "    a = self._action\n",
    "    r = reward\n",
    "    g = discount\n",
    "    next_s = next_state\n",
    "    \n",
    "    # ============ YOUR CODE HERE =============\n",
    "    # Q-value table update\n",
    "    pass\n",
    "  \n",
    "    # Get the action to send to execute in the environment and return it\n",
    "    self._state = next_state\n",
    "    self._action = self._behaviour_policy(self._q[next_state])\n",
    "    \n",
    "    return self._action"
   ]
  },
  {
   "cell_type": "code",
   "execution_count": 62,
   "metadata": {
    "cellView": "form",
    "colab": {},
    "colab_type": "code",
    "id": "S7mZg1sd9Jqb"
   },
   "outputs": [],
   "source": [
    "#@title Solution: Q-learning AGENT\n",
    "class Qlearning_AGENT(object):\n",
    "\n",
    "  def __init__(\n",
    "      self, number_of_states, number_of_actions, initial_state,\n",
    "      behaviour_policy, step_size=0.1): \n",
    "    self._q = np.zeros((number_of_states, number_of_actions))\n",
    "    self._state = initial_state\n",
    "    self._number_of_states = number_of_states\n",
    "    self._number_of_actions = number_of_actions\n",
    "    self._step_size = step_size\n",
    "    self._behaviour_policy = behaviour_policy\n",
    "    self._action = 0\n",
    "\n",
    "    \n",
    "  @property\n",
    "  def q_values(self):\n",
    "    return self._q\n",
    "\n",
    "  def step(self, reward, discount, next_state):\n",
    "    s = self._state\n",
    "    a = self._action\n",
    "    r = reward\n",
    "    g = discount\n",
    "    next_s = next_state\n",
    "    next_a = self._behaviour_policy(self._q[next_s])\n",
    "    \n",
    "    # Online Q-value update\n",
    "    td_error = r + g * np.max(self._q[next_s]) - self._q[s, a]\n",
    "    self._q[s, a] += self._step_size * td_error\n",
    "\n",
    "    # Act\n",
    "    self._state = next_state\n",
    "    self._action = self._behaviour_policy(self._q[next_state])\n",
    "    return self._action"
   ]
  },
  {
   "cell_type": "markdown",
   "metadata": {
    "colab_type": "text",
    "id": "8cqpXmZta4l-"
   },
   "source": [
    "### Task 1: Run your Q-learning agent on the below environment for 1e5 number of steps\n",
    "Keep the rest, to the default values, for this first step. I'll get to experiment with this later."
   ]
  },
  {
   "cell_type": "code",
   "execution_count": 69,
   "metadata": {
    "colab": {},
    "colab_type": "code",
    "id": "kgtCWNNcZJwW"
   },
   "outputs": [
    {
     "data": {
      "image/png": "[encoded data removed]",
      "text/plain": [
       "<Figure size 300x300 with 1 Axes>"
      ]
     },
     "metadata": {},
     "output_type": "display_data"
    }
   ],
   "source": [
    "# enviroment\n",
    "grid = Grid(discount=0.9, penalty_for_walls=-1.) # 1 to 0.01 to 0.0001\n",
    "grid.plot_grid()"
   ]
  },
  {
   "cell_type": "code",
   "execution_count": 72,
   "metadata": {
    "colab": {
     "base_uri": "https://localhost:8080/",
     "height": 674
    },
    "colab_type": "code",
    "id": "hduGg4l19acj",
    "outputId": "e2767c05-b85f-43e7-cf09-c488899b00f3"
   },
   "outputs": [
    {
     "name": "stderr",
     "output_type": "stream",
     "text": [
      "100%|██████████| 100000/100000 [00:04<00:00, 23680.64it/s]\n"
     ]
    },
    {
     "name": "stdout",
     "output_type": "stream",
     "text": [
      "AFTER 100000 STEPS ...\n"
     ]
    },
    {
     "data": {
      "image/png": "[encoded data removed]",
      "text/plain": [
       "<Figure size 800x800 with 10 Axes>"
      ]
     },
     "metadata": {},
     "output_type": "display_data"
    },
    {
     "data": {
      "image/png": "[encoded data removed]",
      "text/plain": [
       "<Figure size 300x300 with 1 Axes>"
      ]
     },
     "metadata": {},
     "output_type": "display_data"
    }
   ],
   "source": [
    "epsilon = 0.9 #@param\n",
    "num_steps = int(1e5) #@param\n",
    "\n",
    "# behavior policy\n",
    "behavior_policy = lambda qval: epsilon_greedy(qval, epsilon=epsilon)\n",
    "\n",
    "# agent\n",
    "agent = Qlearning_AGENT(\n",
    "    number_of_states=grid._layout.size, \n",
    "    number_of_actions=4, \n",
    "    initial_state=grid.get_obs(),\n",
    "    behaviour_policy=behavior_policy,\n",
    "    step_size=0.1)\n",
    "\n",
    "# run experiment and get the value functions from agent\n",
    "run_experiment(grid, agent, num_steps)\n",
    "q = agent.q_values.reshape(grid._layout.shape + (4,))\n",
    "\n",
    "# visualise value functions\n",
    "print('AFTER {} STEPS ...'.format(num_steps))\n",
    "plot_action_values(q, epsilon=0.)\n",
    "\n",
    "# visualise the greedy policy\n",
    "plot_greedy_policy(grid, q)"
   ]
  },
  {
   "cell_type": "markdown",
   "metadata": {
    "colab_type": "text",
    "id": "iJastp_kcAZC"
   },
   "source": [
    "### Task 2: Experiment with different levels of 'greediness':\n",
    "* The default was $\\epsilon=1$, what does this correspond to?\n",
    "* Try also $\\epsilon =0.1, 0.5$. What do you observe? Does the behaviour policy affect the training in any way?"
   ]
  },
  {
   "cell_type": "markdown",
   "metadata": {
    "colab_type": "text",
    "id": "omzJxb5ds0Iq"
   },
   "source": [
    "## 1.4 Experience Replay\n",
    "\n",
    " Implement an agent that uses **Experience Replay** to learn action values, at each step:\n",
    "* select actions randomly\n",
    "* accumulate all observed transitions *(s, a, r, s')* in the environment in a *replay buffer*,\n",
    "* apply an online Q-learning \n",
    "* apply multiple Q-learning updates based on transitions sampled from the *replay buffer* (in addition to the online updates).\n",
    "\n",
    "**Initialize** $Q(s, a)$ for all s ∈ S and a ∈ A(s)\n",
    "\n",
    "**Loop forever**:\n",
    "\n",
    "1. $S \\gets{}$current (nonterminal) state\n",
    " \n",
    "2. $A \\gets{} \\text{random_action}(S)$\n",
    " \n",
    "3. Take action $A$; observe resultant reward $R$, discount $\\gamma$, and state, $S'$\n",
    "\n",
    "4. $Q(S, A) \\gets Q(S, A) + \\alpha (R + \\gamma \\max_a Q(S', a) − Q(S, A))$\n",
    "\n",
    "5. $\\text{ReplayBuffer}.\\text{append_transition}(S, A, R, \\gamma, S')$\n",
    "\n",
    "6. Loop repeat n times:\n",
    "\n",
    "  1. $S, A, R, \\gamma, S' \\gets \\text{ReplayBuffer}.\\text{sample_transition}()$\n",
    "  \n",
    "  4. $Q(S, A) \\gets Q(S, A) + \\alpha (R + \\gamma \\max_a Q(S', a) − Q(S, A))$"
   ]
  },
  {
   "cell_type": "code",
   "execution_count": 22,
   "metadata": {
    "cellView": "both",
    "colab": {},
    "colab_type": "code",
    "id": "TB9e_reb2pJX"
   },
   "outputs": [],
   "source": [
    "#@title [Coding Task] Q-learning AGENT with a simple replay buffer\n",
    "# EXERCISE: solution in the cell below.\n",
    "class ReplayQ_AGENT(object):\n",
    "\n",
    "  def __init__(\n",
    "      self, number_of_states, number_of_actions, initial_state, \n",
    "      behaviour_policy, num_offline_updates=0, step_size=0.1):\n",
    "    self._q = np.zeros((number_of_states, number_of_actions))\n",
    "    self._state = initial_state\n",
    "    self._action = 0\n",
    "    self._number_of_states = number_of_states\n",
    "    self._number_of_actions = number_of_actions\n",
    "    self._num_offline_updates = num_offline_updates\n",
    "    self._step_size = step_size\n",
    "    self._behaviour_policy = behaviour_policy\n",
    "    \n",
    "    # initialise replay buffer\n",
    "    self._replay_buffer = []\n",
    "    \n",
    "  @property\n",
    "  def q_values(self):\n",
    "    return self._q\n",
    "\n",
    "  def step(self, reward, discount, next_state):\n",
    "    s = self._state\n",
    "    a = self._action\n",
    "    r = reward\n",
    "    g = discount\n",
    "    next_s = next_state\n",
    "    \n",
    "    # Online Q-value update\n",
    "    td_error = r + g * np.max(self._q[next_s]) - self._q[s, a]\n",
    "    self._q[s, a] += self._step_size * td_error\n",
    "    \n",
    "    # ============ YOUR CODE HERE =============\n",
    "    if self._num_offline_updates > 0:\n",
    "\n",
    "      # Store sample into replay buffer memory\n",
    "      \n",
    "    \n",
    "      # ============ YOUR CODE HERE =============\n",
    "      # Q-value table update based on online sample and offline samples\n",
    "      # This update is the same as the above (Q-learning Agent) but \n",
    "      # now we are going to be using samples from the replay buffer.\n",
    "      # Note: You can COPY this from the above Q_learning Agent\n",
    "      pass\n",
    "\n",
    "    # Get the action to send to execute in the environment and return it\n",
    "    self._state = next_state\n",
    "    self._action = self._behaviour_policy(self._q[next_state])\n",
    "    \n",
    "    return self._action"
   ]
  },
  {
   "cell_type": "code",
   "execution_count": 23,
   "metadata": {
    "cellView": "form",
    "colab": {},
    "colab_type": "code",
    "id": "Hh5Vd-cUtIJ9"
   },
   "outputs": [],
   "source": [
    "#@title Solution: Q-learning AGENT with a simple replay buffer \n",
    "class ReplayQ_AGENT(object):\n",
    "\n",
    "  def __init__(\n",
    "      self, number_of_states, number_of_actions, initial_state, \n",
    "      behaviour_policy=random_policy, \n",
    "      num_offline_updates=0, step_size=0.1):\n",
    "    \n",
    "    self._q = np.zeros((number_of_states, number_of_actions))\n",
    "    self._state = initial_state\n",
    "    self._number_of_states = number_of_states\n",
    "    self._number_of_actions = number_of_actions\n",
    "    self._num_offline_updates = num_offline_updates\n",
    "    self._step_size = step_size\n",
    "    self._b = behaviour_policy\n",
    "    self._action = 0\n",
    "    self._replay_buffer = []\n",
    "    \n",
    "  @property\n",
    "  def q_values(self):\n",
    "    return self._q\n",
    "\n",
    "  def step(self, reward, discount, next_state):\n",
    "    s = self._state\n",
    "    a = self._action\n",
    "    r = reward\n",
    "    g = discount\n",
    "    next_s = next_state\n",
    "    \n",
    "    # Online Q-value update\n",
    "    td_error = r + g * np.max(self._q[next_s]) - self._q[s, a]\n",
    "    self._q[s, a] += self._step_size * td_error\n",
    "    \n",
    "    if self._num_offline_updates > 0:\n",
    "\n",
    "      # Non-Parametric-Model Update\n",
    "      self._replay_buffer.append((s, a, r, g, next_s))\n",
    "\n",
    "      # Offline Q-value update\n",
    "      if len(self._replay_buffer) > self._num_offline_updates:\n",
    "        for i in range(self._num_offline_updates):\n",
    "          idx = np.random.randint(0, len(self._replay_buffer))\n",
    "          s, a, r, g, next_s = self._replay_buffer[idx]\n",
    "          td_error = r + g * np.max(self._q[next_s]) - self._q[s, a]\n",
    "          self._q[s, a] += self._step_size * td_error\n",
    "\n",
    "    # Act\n",
    "    self._state = next_state\n",
    "    self._action = self._b(self._q[next_state])\n",
    "    return self._action"
   ]
  },
  {
   "cell_type": "code",
   "execution_count": 24,
   "metadata": {
    "colab": {
     "base_uri": "https://localhost:8080/",
     "height": 674
    },
    "colab_type": "code",
    "id": "F5vnFSWVDU3A",
    "outputId": "f45904e4-c0aa-4f90-b78f-b1fe9c9ad338"
   },
   "outputs": [
    {
     "name": "stdout",
     "output_type": "stream",
     "text": [
      "AFTER 10000 STEPS ...\n"
     ]
    },
    {
     "data": {
      "image/png": "[encoded data removed]",
      "text/plain": [
       "<Figure size 576x576 with 10 Axes>"
      ]
     },
     "metadata": {
      "needs_background": "light"
     },
     "output_type": "display_data"
    },
    {
     "data": {
      "image/png": "[encoded data removed]",
      "text/plain": [
       "<Figure size 216x216 with 1 Axes>"
      ]
     },
     "metadata": {},
     "output_type": "display_data"
    }
   ],
   "source": [
    "num_offline_updates=30 #@param\n",
    "num_steps = int(1e4) #@param\n",
    "\n",
    "grid = Grid(discount=0.9, penalty_for_walls=-1.)\n",
    "\n",
    "behavior_policy = lambda qval: epsilon_greedy(qval, epsilon=epsilon)\n",
    "agent = ReplayQ_AGENT(\n",
    "    number_of_states=grid._layout.size, \n",
    "    number_of_actions=4, \n",
    "    initial_state=grid.get_obs(),\n",
    "    num_offline_updates=num_offline_updates, \n",
    "    step_size=0.1)\n",
    "\n",
    "# run experiment and get the value functions from agent\n",
    "run_experiment(grid, agent, num_steps)\n",
    "q = agent.q_values.reshape(grid._layout.shape + (4,))\n",
    "\n",
    "# visualize value functions\n",
    "print('AFTER {} STEPS ...'.format(num_steps))\n",
    "plot_action_values(q)\n",
    "\n",
    "# visualise the greedy policy\n",
    "plot_greedy_policy(grid, q)"
   ]
  },
  {
   "cell_type": "markdown",
   "metadata": {
    "colab_type": "text",
    "id": "Q5AWyVs16A-x"
   },
   "source": [
    "## 1.5 Further Analysis:  Data Efficiency"
   ]
  },
  {
   "cell_type": "markdown",
   "metadata": {
    "colab_type": "text",
    "id": "JWutE_URvT7K"
   },
   "source": [
    "**Online Q-learning**\n",
    "\n",
    "* $\\text{number_of_steps}$ = $1e3$ and $\\text{num_offline_updates}$ = $0$"
   ]
  },
  {
   "cell_type": "code",
   "execution_count": 25,
   "metadata": {
    "colab": {
     "base_uri": "https://localhost:8080/",
     "height": 476
    },
    "colab_type": "code",
    "id": "Iix-yw-MKS4Y",
    "outputId": "aa5fbeb7-8850-4b3d-9fb1-4a292518a7fd"
   },
   "outputs": [
    {
     "data": {
      "image/png": "[encoded data removed]",
      "text/plain": [
       "<Figure size 576x576 with 10 Axes>"
      ]
     },
     "metadata": {
      "needs_background": "light"
     },
     "output_type": "display_data"
    },
    {
     "data": {
      "image/png": "[encoded data removed]",
      "text/plain": [
       "<Figure size 216x216 with 1 Axes>"
      ]
     },
     "metadata": {},
     "output_type": "display_data"
    }
   ],
   "source": [
    "grid = Grid()\n",
    "agent = ReplayQ_AGENT(\n",
    "  grid._layout.size, 4, grid.get_obs(),\n",
    "  random_policy, num_offline_updates=0, step_size=0.1)\n",
    "run_experiment(grid, agent, int(1e3))\n",
    "q = agent.q_values.reshape(grid._layout.shape + (4,))\n",
    "plot_action_values(q)\n",
    "\n",
    "plot_greedy_policy(grid, q)"
   ]
  },
  {
   "cell_type": "markdown",
   "metadata": {
    "colab_type": "text",
    "id": "KZXsXJYBgC_N"
   },
   "source": [
    "**Experience Replay**\n",
    "\n",
    "* $\\text{number_of_steps}$ = $1e3$ and $\\text{num_offline_updates}$ = $30$"
   ]
  },
  {
   "cell_type": "code",
   "execution_count": 26,
   "metadata": {
    "colab": {
     "base_uri": "https://localhost:8080/",
     "height": 476
    },
    "colab_type": "code",
    "id": "ASml5uAeIl4A",
    "outputId": "82bbf4c0-6831-45b8-f6d4-0670ca685f01"
   },
   "outputs": [
    {
     "data": {
      "image/png": "[encoded data removed]",
      "text/plain": [
       "<Figure size 576x576 with 10 Axes>"
      ]
     },
     "metadata": {
      "needs_background": "light"
     },
     "output_type": "display_data"
    },
    {
     "data": {
      "image/png": "[encoded data removed]",
      "text/plain": [
       "<Figure size 216x216 with 1 Axes>"
      ]
     },
     "metadata": {},
     "output_type": "display_data"
    }
   ],
   "source": [
    "grid = Grid()\n",
    "agent = ReplayQ_AGENT(\n",
    "  grid._layout.size, 4, grid.get_obs(),\n",
    "  random_policy, num_offline_updates=30, step_size=0.1)\n",
    "run_experiment(grid, agent, int(1e3))\n",
    "q = agent.q_values.reshape(grid._layout.shape + (4,))\n",
    "plot_action_values(q)\n",
    "\n",
    "plot_greedy_policy(grid, q)"
   ]
  },
  {
   "cell_type": "markdown",
   "metadata": {
    "colab_type": "text",
    "id": "_nvK1SjRj3bp"
   },
   "source": [
    "### That's a wrap! \n",
    "Thank you for going through this tutorial and we hope you found this useful and/or informative. Remember though this is only a starting point, but hopefully one that would inspire more thought and more experimentation in this domain.  As seen throughout this tutorial, 'trial-and-error' can be a very powerful learning mechanism.\n",
    "\n",
    "\n",
    "\"*Negative results are just what I want. They’re just as valuable to me as positive results. I can never find the thing that does the job best until I find the ones that don’t.*” (Thomas Edison)"
   ]
  },
  {
   "cell_type": "code",
   "execution_count": null,
   "metadata": {
    "colab": {},
    "colab_type": "code",
    "id": "js3mwPaOmR3P"
   },
   "outputs": [],
   "source": []
  }
 ],
 "metadata": {
  "colab": {
   "collapsed_sections": [
    "9v_SYckYfv5G",
    "rNuohp44N00i",
    "ALrRR76eAd6u",
    "cOu9RZY3AkF1",
    "B8oKd0oyvNcH",
    "iJastp_kcAZC",
    "Q5AWyVs16A-x"
   ],
   "name": "Final_Version_EEML_RL_Tutorial_w_Solutions.ipynb",
   "provenance": [],
   "toc_visible": true,
   "version": "0.3.2"
  },
  "kernelspec": {
   "display_name": "rl",
   "language": "python",
   "name": "python3"
  },
  "language_info": {
   "codemirror_mode": {
    "name": "ipython",
    "version": 3
   },
   "file_extension": ".py",
   "mimetype": "text/x-python",
   "name": "python",
   "nbconvert_exporter": "python",
   "pygments_lexer": "ipython3",
   "version": "3.9.16"
  },
  "vscode": {
   "interpreter": {
    "hash": "3f3197d1eca05a7201c3925eb09dc3f179595d56a5b4c534ce92ffb98e4b5b60"
   }
  }
 },
 "nbformat": 4,
 "nbformat_minor": 1
}
